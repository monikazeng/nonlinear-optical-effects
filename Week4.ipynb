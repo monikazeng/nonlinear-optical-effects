{
 "cells": [
  {
   "cell_type": "code",
   "execution_count": 2,
   "metadata": {},
   "outputs": [
    {
     "name": "stdout",
     "output_type": "stream",
     "text": [
      "Enter the wavelength: 0.8\n"
     ]
    }
   ],
   "source": [
    "l = float(input(\"Enter the wavelength: \"))"
   ]
  },
  {
   "cell_type": "code",
   "execution_count": 11,
   "metadata": {
    "scrolled": true
   },
   "outputs": [],
   "source": [
    "nowsq = 2.7359 + 0.01878 / (l**2 - 0.01822) - 0.01354 * l**2\n",
    "no2wsq = 2.7359 + 0.01878 / ((2*l)**2 - 0.01822) - 0.01354 * (2*l)**2\n",
    "ne2wsq = 2.3753 + 0.01224 / ((2*l)**2 - 0.01667) - 0.01516 * (2*l)**2"
   ]
  },
  {
   "cell_type": "code",
   "execution_count": 3,
   "metadata": {},
   "outputs": [],
   "source": [
    "nowsq = 2.7359 + 0.01878 / (l**2 - 0.01822) - 0.01354 * l**2\n",
    "no2wsq = 2.7359 + 0.01878 / ((l/2)**2 - 0.01822) - 0.01354 * (l/2)**2\n",
    "ne2wsq = 2.3753 + 0.01224 / ((l/2)**2 - 0.01667) - 0.01516 * (l/2)**2"
   ]
  },
  {
   "cell_type": "code",
   "execution_count": 4,
   "metadata": {},
   "outputs": [
    {
     "name": "stdout",
     "output_type": "stream",
     "text": [
      "2.7574380089935344\n",
      "2.86619233889124\n",
      "2.45827173482174\n"
     ]
    }
   ],
   "source": [
    "print(nowsq)\n",
    "print(no2wsq)\n",
    "print(ne2wsq)"
   ]
  },
  {
   "cell_type": "code",
   "execution_count": 5,
   "metadata": {},
   "outputs": [],
   "source": [
    "import sympy"
   ]
  },
  {
   "cell_type": "code",
   "execution_count": 6,
   "metadata": {},
   "outputs": [
    {
     "name": "stderr",
     "output_type": "stream",
     "text": [
      "/Users/monica/opt/anaconda3/lib/python3.7/site-packages/sympy/core/relational.py:470: SymPyDeprecationWarning: \n",
      "\n",
      "Eq(expr) with rhs default to 0 has been deprecated since SymPy 1.5.\n",
      "Use Eq(expr, 0) instead. See\n",
      "https://github.com/sympy/sympy/issues/16587 for more info.\n",
      "\n",
      "  deprecated_since_version=\"1.5\"\n"
     ]
    },
    {
     "data": {
      "text/plain": [
       "[-2.63233903721913, -0.509253616370661, 0.509253616370661, 2.63233903721913]"
      ]
     },
     "execution_count": 6,
     "metadata": {},
     "output_type": "execute_result"
    }
   ],
   "source": [
    "x = sympy.symbols('x')\n",
    "expr = sympy.Eq(((sympy.cos(x))**2 / no2wsq) + ((sympy.sin(x))**2 / ne2wsq) - (1 / nowsq))\n",
    "sol = sympy.solve(expr)\n",
    "sol"
   ]
  },
  {
   "cell_type": "code",
   "execution_count": 32,
   "metadata": {},
   "outputs": [
    {
     "name": "stdout",
     "output_type": "stream",
     "text": [
      "[-1.52648145414227*I, 1.52648145414227*I, -3.14159265358979 - 1.52648145414227*I, 3.14159265358979 + 1.52648145414227*I]\n"
     ]
    }
   ],
   "source": [
    "print(sol)"
   ]
  }
 ],
 "metadata": {
  "kernelspec": {
   "display_name": "Python 3",
   "language": "python",
   "name": "python3"
  },
  "language_info": {
   "codemirror_mode": {
    "name": "ipython",
    "version": 3
   },
   "file_extension": ".py",
   "mimetype": "text/x-python",
   "name": "python",
   "nbconvert_exporter": "python",
   "pygments_lexer": "ipython3",
   "version": "3.7.6"
  }
 },
 "nbformat": 4,
 "nbformat_minor": 4
}
