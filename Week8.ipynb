{
 "cells": [
  {
   "cell_type": "code",
   "execution_count": 34,
   "metadata": {},
   "outputs": [
    {
     "name": "stdout",
     "output_type": "stream",
     "text": [
      "Enter the wavelength: 1.064\n"
     ]
    }
   ],
   "source": [
    "l = float(input(\"Enter the wavelength: \"))"
   ]
  },
  {
   "cell_type": "code",
   "execution_count": 51,
   "metadata": {},
   "outputs": [],
   "source": [
    "nxsq = 2.72186 + 0.01668 / (l**2 - 0.01546) - 0.00983 * l**2\n",
    "nysq = 2.78252 + 0.01767 / (l**2 - 0.01562) - 0.0111 * l**2\n",
    "nzsq = 2.83314 + 0.01834 / (l**2 - 0.01584) - 0.01179 * l**2\n",
    "\n",
    "nx2wsq = 2.72186 + 0.01668 / ((l/2)**2 - 0.01546) - 0.00983 * (l/2)**2\n",
    "ny2wsq = 2.78252 + 0.01767 / ((l/2)**2 - 0.01562) - 0.0111 * (l/2)**2\n",
    "nz2wsq = 2.83314 + 0.01834 / ((l/2)**2 - 0.01584) - 0.01179 * (l/2)**2"
   ]
  },
  {
   "cell_type": "code",
   "execution_count": 52,
   "metadata": {},
   "outputs": [
    {
     "name": "stdout",
     "output_type": "stream",
     "text": [
      "2.7256692199828585 2.7857803173269953 2.836222511045073\n",
      "2.7814180992223956 2.8454582229823577 2.89844498188041\n"
     ]
    }
   ],
   "source": [
    "print(nxsq, nysq, nzsq)\n",
    "print(nx2wsq, ny2wsq, nz2wsq)"
   ]
  },
  {
   "cell_type": "code",
   "execution_count": null,
   "metadata": {},
   "outputs": [],
   "source": []
  },
  {
   "cell_type": "code",
   "execution_count": 37,
   "metadata": {},
   "outputs": [],
   "source": [
    "import numpy as np\n",
    "from scipy.optimize import minimize"
   ]
  },
  {
   "cell_type": "code",
   "execution_count": 38,
   "metadata": {},
   "outputs": [],
   "source": []
  },
  {
   "cell_type": "code",
   "execution_count": 43,
   "metadata": {},
   "outputs": [
    {
     "name": "stdout",
     "output_type": "stream",
     "text": [
      "0.36688237614037733 0.3589658501713866 0.3525816455181883\n",
      "0.35952883181409195 0.3514372454753134 0.34501258649085514\n"
     ]
    }
   ],
   "source": [
    "print(a1, b1, c1)\n",
    "print(a2, b2, c2)"
   ]
  },
  {
   "cell_type": "code",
   "execution_count": null,
   "metadata": {},
   "outputs": [],
   "source": []
  },
  {
   "cell_type": "code",
   "execution_count": 44,
   "metadata": {},
   "outputs": [],
   "source": [
    "def objective(x):\n",
    "    phi = x[0]\n",
    "\n",
    "    \n",
    "    kx = np.sin(90*np.pi/180) * np.cos(phi)\n",
    "    ky = np.sin(90*np.pi/180) * np.sin (phi)\n",
    "    kz = np.cos(90*np.pi/180)\n",
    "    \n",
    "    a1 = nxsq**(-1)\n",
    "    b1 = nysq**(-1)\n",
    "    c1 = nzsq**(-1)\n",
    "\n",
    "    a2 = nx2wsq**(-1)\n",
    "    b2 = ny2wsq**(-1)\n",
    "    c2 = nz2wsq**(-1)\n",
    "\n",
    "    B1 = (-(kx**2)*(b1+c1) - (ky**2)*(a1+c1) - (kz**2)*(a1+b1))\n",
    "    C1 = (kx**2)*b1*c1 + (ky**2)*a1*c1 + (kz**2)*a1*b1\n",
    "\n",
    "    B2 = (-(kx**2)*(b2+c2) - (ky**2)*(a2+c2) - (kz**2)*(a2+b2))\n",
    "    C2 = (kx**2)*b2*c2 + (ky**2)*a2*c2 + (kz**2)*a2*b2\n",
    "\n",
    "    eq1 = np.sqrt(2)/np.sqrt(-B1 - np.sqrt(B1**2 - 4*C1))\n",
    "    eq2 = np.sqrt(2)/np.sqrt(-B2 + np.sqrt(B2**2 - 4*C2))\n",
    "    \n",
    "    return eq1 - eq2"
   ]
  },
  {
   "cell_type": "code",
   "execution_count": 76,
   "metadata": {},
   "outputs": [],
   "source": [
    "def inequality_constraint(x):\n",
    "    phi = x[0]\n",
    "    return phi"
   ]
  },
  {
   "cell_type": "code",
   "execution_count": 77,
   "metadata": {},
   "outputs": [],
   "source": [
    "bounds_phi = (0*np.pi/180, 90*np.pi/180)\n",
    "bounds = [bounds_phi]\n",
    "phi = 20*np.pi/180"
   ]
  },
  {
   "cell_type": "code",
   "execution_count": 78,
   "metadata": {},
   "outputs": [],
   "source": [
    "constraint = {'type' : 'ineq', 'fun' : inequality_constraint}"
   ]
  },
  {
   "cell_type": "code",
   "execution_count": 79,
   "metadata": {},
   "outputs": [
    {
     "ename": "TypeError",
     "evalue": "'function' object is not iterable",
     "output_type": "error",
     "traceback": [
      "\u001b[0;31m---------------------------------------------------------------------------\u001b[0m",
      "\u001b[0;31mTypeError\u001b[0m                                 Traceback (most recent call last)",
      "\u001b[0;32m<ipython-input-79-18b04922bd41>\u001b[0m in \u001b[0;36m<module>\u001b[0;34m\u001b[0m\n\u001b[0;32m----> 1\u001b[0;31m \u001b[0mresult\u001b[0m \u001b[0;34m=\u001b[0m \u001b[0mminimize\u001b[0m\u001b[0;34m(\u001b[0m\u001b[0mobjective\u001b[0m\u001b[0;34m,\u001b[0m \u001b[0mphi\u001b[0m\u001b[0;34m,\u001b[0m \u001b[0mmethod\u001b[0m \u001b[0;34m=\u001b[0m \u001b[0;34m'SLSQP'\u001b[0m\u001b[0;34m,\u001b[0m \u001b[0mbounds\u001b[0m \u001b[0;34m=\u001b[0m \u001b[0mbounds\u001b[0m\u001b[0;34m,\u001b[0m \u001b[0mconstraints\u001b[0m \u001b[0;34m=\u001b[0m \u001b[0minequality_constraint\u001b[0m\u001b[0;34m)\u001b[0m\u001b[0;34m\u001b[0m\u001b[0;34m\u001b[0m\u001b[0m\n\u001b[0m\u001b[1;32m      2\u001b[0m \u001b[0mprint\u001b[0m\u001b[0;34m(\u001b[0m\u001b[0mresult\u001b[0m\u001b[0;34m)\u001b[0m\u001b[0;34m\u001b[0m\u001b[0;34m\u001b[0m\u001b[0m\n",
      "\u001b[0;32m~/opt/anaconda3/lib/python3.7/site-packages/scipy/optimize/_minimize.py\u001b[0m in \u001b[0;36mminimize\u001b[0;34m(fun, x0, args, method, jac, hess, hessp, bounds, constraints, tol, callback, options)\u001b[0m\n\u001b[1;32m    593\u001b[0m \u001b[0;34m\u001b[0m\u001b[0m\n\u001b[1;32m    594\u001b[0m     \u001b[0;32mif\u001b[0m \u001b[0mconstraints\u001b[0m \u001b[0;32mis\u001b[0m \u001b[0;32mnot\u001b[0m \u001b[0;32mNone\u001b[0m\u001b[0;34m:\u001b[0m\u001b[0;34m\u001b[0m\u001b[0;34m\u001b[0m\u001b[0m\n\u001b[0;32m--> 595\u001b[0;31m         \u001b[0mconstraints\u001b[0m \u001b[0;34m=\u001b[0m \u001b[0mstandardize_constraints\u001b[0m\u001b[0;34m(\u001b[0m\u001b[0mconstraints\u001b[0m\u001b[0;34m,\u001b[0m \u001b[0mx0\u001b[0m\u001b[0;34m,\u001b[0m \u001b[0mmeth\u001b[0m\u001b[0;34m)\u001b[0m\u001b[0;34m\u001b[0m\u001b[0;34m\u001b[0m\u001b[0m\n\u001b[0m\u001b[1;32m    596\u001b[0m \u001b[0;34m\u001b[0m\u001b[0m\n\u001b[1;32m    597\u001b[0m     \u001b[0;32mif\u001b[0m \u001b[0mmeth\u001b[0m \u001b[0;34m==\u001b[0m \u001b[0;34m'nelder-mead'\u001b[0m\u001b[0;34m:\u001b[0m\u001b[0;34m\u001b[0m\u001b[0;34m\u001b[0m\u001b[0m\n",
      "\u001b[0;32m~/opt/anaconda3/lib/python3.7/site-packages/scipy/optimize/_minimize.py\u001b[0m in \u001b[0;36mstandardize_constraints\u001b[0;34m(constraints, x0, meth)\u001b[0m\n\u001b[1;32m    813\u001b[0m     \u001b[0;32mif\u001b[0m \u001b[0misinstance\u001b[0m\u001b[0;34m(\u001b[0m\u001b[0mconstraints\u001b[0m\u001b[0;34m,\u001b[0m \u001b[0mall_constraint_types\u001b[0m\u001b[0;34m)\u001b[0m\u001b[0;34m:\u001b[0m\u001b[0;34m\u001b[0m\u001b[0;34m\u001b[0m\u001b[0m\n\u001b[1;32m    814\u001b[0m         \u001b[0mconstraints\u001b[0m \u001b[0;34m=\u001b[0m \u001b[0;34m[\u001b[0m\u001b[0mconstraints\u001b[0m\u001b[0;34m]\u001b[0m\u001b[0;34m\u001b[0m\u001b[0;34m\u001b[0m\u001b[0m\n\u001b[0;32m--> 815\u001b[0;31m     \u001b[0mconstraints\u001b[0m \u001b[0;34m=\u001b[0m \u001b[0mlist\u001b[0m\u001b[0;34m(\u001b[0m\u001b[0mconstraints\u001b[0m\u001b[0;34m)\u001b[0m  \u001b[0;31m# ensure it's a mutable sequence\u001b[0m\u001b[0;34m\u001b[0m\u001b[0;34m\u001b[0m\u001b[0m\n\u001b[0m\u001b[1;32m    816\u001b[0m \u001b[0;34m\u001b[0m\u001b[0m\n\u001b[1;32m    817\u001b[0m     \u001b[0;32mif\u001b[0m \u001b[0mmeth\u001b[0m \u001b[0;34m==\u001b[0m \u001b[0;34m'trust-constr'\u001b[0m\u001b[0;34m:\u001b[0m\u001b[0;34m\u001b[0m\u001b[0;34m\u001b[0m\u001b[0m\n",
      "\u001b[0;31mTypeError\u001b[0m: 'function' object is not iterable"
     ]
    }
   ],
   "source": [
    "result = minimize(objective, phi, method = 'SLSQP', bounds = bounds, constraints = inequality_constraint)\n",
    "print(result)"
   ]
  },
  {
   "cell_type": "code",
   "execution_count": null,
   "metadata": {},
   "outputs": [],
   "source": []
  },
  {
   "cell_type": "code",
   "execution_count": 20,
   "metadata": {},
   "outputs": [],
   "source": [
    "import numpy as np\n",
    "from scipy.optimize import minimize"
   ]
  },
  {
   "cell_type": "code",
   "execution_count": 137,
   "metadata": {},
   "outputs": [],
   "source": [
    "def objective(x):\n",
    "    theta = x[0]\n",
    "    phi = x[1]\n",
    "\n",
    "    a1 = nxsq**(-2)\n",
    "    b1 = nysq**(-2)\n",
    "    c1 = nzsq**(-2)\n",
    "\n",
    "    a2 = nx2wsq**(-2)\n",
    "    b2 = ny2wsq**(-2)\n",
    "    c2 = nz2wsq**(-2)\n",
    "\n",
    "    kx = np.sin(theta) * np.cos(phi)\n",
    "    ky = np.sin(theta) * np.sin (phi)\n",
    "    kz = np.cos(theta)\n",
    "\n",
    "    B1 = (-(kx**2)*(b1+c1) - (ky**2)*(a1+c1) - (kz**2)*(a1+b1))\n",
    "    C1 = (kx**2)*b1*c1 + (ky**2)*a1*c1 + (kz**2)*a1*b1\n",
    "\n",
    "    B2 = (-(kx**2)*(b2+c2) - (ky**2)*(a2+c2) - (kz**2)*(a2+b2))\n",
    "    C2 = (kx**2)*b2*c2 + (ky**2)*a2*c2 + (kz**2)*a2*b2\n",
    "\n",
    "    eq1 = np.sqrt(2)/np.sqrt(-B1 - np.sqrt(B1**2 - 4*C1))\n",
    "    eq2 = np.sqrt(2)/np.sqrt(-B2 + np.sqrt(B2**2 - 4*C2))\n",
    "    \n",
    "    return eq1 -eq2"
   ]
  },
  {
   "cell_type": "code",
   "execution_count": 138,
   "metadata": {},
   "outputs": [],
   "source": [
    "bounds_theta = (0, 91)\n",
    "bounds_phi = (0, 91)\n",
    "bounds = [bounds_theta, bounds_phi]\n",
    "theta = [10,20]\n",
    "phi = [20,40]\n"
   ]
  },
  {
   "cell_type": "code",
   "execution_count": 139,
   "metadata": {},
   "outputs": [
    {
     "name": "stdout",
     "output_type": "stream",
     "text": [
      "     fun: -0.059227700551941265\n",
      "     jac: array([-0.00023592,  0.02054206])\n",
      " message: 'Optimization terminated successfully.'\n",
      "    nfev: 98\n",
      "     nit: 20\n",
      "    njev: 20\n",
      "  status: 0\n",
      " success: True\n",
      "       x: array([10.27256812, 18.84974331])\n"
     ]
    }
   ],
   "source": [
    "result = minimize(objective, theta, method = 'SLSQP', bounds = bounds)\n",
    "print(result)"
   ]
  }
 ],
 "metadata": {
  "kernelspec": {
   "display_name": "Python 3",
   "language": "python",
   "name": "python3"
  },
  "language_info": {
   "codemirror_mode": {
    "name": "ipython",
    "version": 3
   },
   "file_extension": ".py",
   "mimetype": "text/x-python",
   "name": "python",
   "nbconvert_exporter": "python",
   "pygments_lexer": "ipython3",
   "version": "3.7.6"
  }
 },
 "nbformat": 4,
 "nbformat_minor": 4
}
