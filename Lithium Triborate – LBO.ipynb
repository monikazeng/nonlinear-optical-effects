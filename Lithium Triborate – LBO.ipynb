{
 "cells": [
  {
   "cell_type": "code",
   "execution_count": 608,
   "metadata": {
    "scrolled": true
   },
   "outputs": [
    {
     "name": "stdout",
     "output_type": "stream",
     "text": [
      "Enter the wavelength: 2.3\n"
     ]
    }
   ],
   "source": [
    "l = float(input(\"Enter the wavelength: \"))"
   ]
  },
  {
   "cell_type": "code",
   "execution_count": 609,
   "metadata": {},
   "outputs": [],
   "source": [
    "nxsq = 2.4542 + 0.0113 / (l**2 - 0.0114) - 0.0139 * l**2\n",
    "nysq = 2.5390 + 0.0128 / (l**2 - 0.0119) - 0.0185 * l**2\n",
    "nzsq = 2.5865 + 0.0131 / (l**2 - 0.0122) - 0.0186 * l**2\n",
    "\n",
    "nx2wsq = 2.4542 + 0.0113 / ((l/2)**2 - 0.0114) - 0.0139 * (l/2)**2\n",
    "ny2wsq = 2.5390 + 0.0128 / ((l/2)**2 - 0.0119) - 0.0185 * (l/2)**2\n",
    "nz2wsq = 2.5865 + 0.0131 / ((l/2)**2 - 0.0122) - 0.0186 * (l/2)**2"
   ]
  },
  {
   "cell_type": "code",
   "execution_count": 610,
   "metadata": {
    "scrolled": true
   },
   "outputs": [
    {
     "name": "stdout",
     "output_type": "stream",
     "text": [
      "2.3828097191300723 2.443560115098236 2.4905880948122325\n",
      "2.4444359671077724 2.5243002691515337 2.571899210447989\n"
     ]
    }
   ],
   "source": [
    "print(nxsq, nysq, nzsq)\n",
    "print(nx2wsq, ny2wsq, nz2wsq)"
   ]
  },
  {
   "cell_type": "code",
   "execution_count": 611,
   "metadata": {},
   "outputs": [],
   "source": [
    "import numpy as np\n",
    "from scipy.optimize import minimize"
   ]
  },
  {
   "cell_type": "code",
   "execution_count": 612,
   "metadata": {},
   "outputs": [],
   "source": [
    "import matplotlib.pyplot as plt"
   ]
  },
  {
   "cell_type": "code",
   "execution_count": null,
   "metadata": {},
   "outputs": [],
   "source": []
  },
  {
   "cell_type": "code",
   "execution_count": null,
   "metadata": {},
   "outputs": [],
   "source": []
  },
  {
   "cell_type": "code",
   "execution_count": 318,
   "metadata": {},
   "outputs": [],
   "source": [
    "def objective(x):\n",
    "    phi = x[0] \n",
    "\n",
    "    kx = np.sin(1/2*np.pi) * np.cos(phi)\n",
    "    ky = np.sin(1/2*np.pi) * np.sin (phi)\n",
    "    kz = np.cos(1/2*np.pi)\n",
    "    \n",
    "    a1 = nxsq**(-1)\n",
    "    b1 = nysq**(-1)\n",
    "    c1 = nzsq**(-1)\n",
    "\n",
    "    a2 = nx2wsq**(-1)\n",
    "    b2 = ny2wsq**(-1)\n",
    "    c2 = nz2wsq**(-1)\n",
    "\n",
    "    B1 = (-(kx**2)*(b1+c1) - (ky**2)*(a1+c1) - (kz**2)*(a1+b1))\n",
    "    C1 = (kx**2)*b1*c1 + (ky**2)*a1*c1 + (kz**2)*a1*b1\n",
    "\n",
    "    B2 = (-(kx**2)*(b2+c2) - (ky**2)*(a2+c2) - (kz**2)*(a2+b2))\n",
    "    C2 = (kx**2)*b2*c2 + (ky**2)*a2*c2 + (kz**2)*a2*b2\n",
    "\n",
    "    eq1 = np.sqrt(2)/np.sqrt(-B1 - np.sqrt(B1**2 - 4*C1))\n",
    "    eq2 = np.sqrt(2)/np.sqrt(-B2 + np.sqrt(B2**2 - 4*C2))\n",
    "    \n",
    "    # this needs to be absolute value of the difference\n",
    "    return abs(eq1 - eq2)"
   ]
  },
  {
   "cell_type": "code",
   "execution_count": 319,
   "metadata": {},
   "outputs": [],
   "source": [
    "bounds_phi = (0*np.pi/180, 90*np.pi/180)\n",
    "bounds = [bounds_phi]\n",
    "phi = 20*np.pi/180"
   ]
  },
  {
   "cell_type": "code",
   "execution_count": 320,
   "metadata": {},
   "outputs": [
    {
     "name": "stdout",
     "output_type": "stream",
     "text": [
      "     fun: 0.00041858255894977603\n",
      "     jac: array([-1.02818012e-06])\n",
      " message: 'Optimization terminated successfully.'\n",
      "    nfev: 12\n",
      "     nit: 4\n",
      "    njev: 4\n",
      "  status: 0\n",
      " success: True\n",
      "       x: array([0.])\n"
     ]
    }
   ],
   "source": [
    "result = minimize(objective, phi, method = 'SLSQP', bounds = bounds)\n",
    "print(result)"
   ]
  },
  {
   "cell_type": "code",
   "execution_count": 321,
   "metadata": {},
   "outputs": [
    {
     "name": "stdout",
     "output_type": "stream",
     "text": [
      "[0.]\n"
     ]
    }
   ],
   "source": [
    "print(result.x *180/np.pi)"
   ]
  },
  {
   "cell_type": "code",
   "execution_count": 312,
   "metadata": {},
   "outputs": [
    {
     "data": {
      "image/png": "[encoded data removed]",
      "text/plain": [
       "<Figure size 432x288 with 1 Axes>"
      ]
     },
     "metadata": {
      "needs_background": "light"
     },
     "output_type": "display_data"
    }
   ],
   "source": [
    "x = [0.5,0.6,0.7,0.8,0.9,1,1.1,1.2,1.3,1.5,1.6,1.7,1.8,1.9,2,2.1,2.2,2.3,2.4,2.5,2.6,2.7,2.8]\n",
    "y = [90,63.08,43.6,31.85,23.08,15.89,9.55,0,-np.inf,0,11.59,15.74,19.75,23.7,27.66,31.67,35.78,40.07,44.59,49.47,54.87,61.11,90]\n",
    "plt.plot(x,y)\n",
    "plt.xlabel('λ (μm)')\n",
    "plt.ylabel('Φ (deg)')\n",
    "plt.title('xy-plane θ = 90°')\n",
    "plt.show()"
   ]
  },
  {
   "cell_type": "code",
   "execution_count": null,
   "metadata": {},
   "outputs": [],
   "source": []
  },
  {
   "cell_type": "code",
   "execution_count": null,
   "metadata": {},
   "outputs": [],
   "source": []
  },
  {
   "cell_type": "code",
   "execution_count": 613,
   "metadata": {},
   "outputs": [],
   "source": [
    "def objective(x):\n",
    "    theta = x[0] \n",
    "    \n",
    "    kx = np.sin(theta) * np.cos(0)\n",
    "    ky = np.sin(theta) * np.sin(0)\n",
    "    kz = np.cos(theta)\n",
    "    \n",
    "    a1 = nxsq**(-1)\n",
    "    b1 = nysq**(-1)\n",
    "    c1 = nzsq**(-1)\n",
    "\n",
    "    a2 = nx2wsq**(-1)\n",
    "    b2 = ny2wsq**(-1)\n",
    "    c2 = nz2wsq**(-1)\n",
    "\n",
    "    B1 = (-(kx**2)*(b1+c1) - (ky**2)*(a1+c1) - (kz**2)*(a1+b1))\n",
    "    C1 = (kx**2)*b1*c1 + (ky**2)*a1*c1 + (kz**2)*a1*b1\n",
    "\n",
    "    B2 = (-(kx**2)*(b2+c2) - (ky**2)*(a2+c2) - (kz**2)*(a2+b2))\n",
    "    C2 = (kx**2)*b2*c2 + (ky**2)*a2*c2 + (kz**2)*a2*b2\n",
    "\n",
    "    eq1 = np.sqrt(2)/np.sqrt(-B1 - np.sqrt(B1**2 - 4*C1))\n",
    "    eq2 = np.sqrt(2)/np.sqrt(-B2 + np.sqrt(B2**2 - 4*C2))\n",
    "    \n",
    "    return abs(eq1 - eq2)"
   ]
  },
  {
   "cell_type": "code",
   "execution_count": null,
   "metadata": {},
   "outputs": [],
   "source": []
  },
  {
   "cell_type": "code",
   "execution_count": 614,
   "metadata": {},
   "outputs": [],
   "source": [
    "bounds_theta = (0*np.pi/180, 40*np.pi/180)\n",
    "bounds = [bounds_theta]\n",
    "theta = 20*np.pi/180"
   ]
  },
  {
   "cell_type": "code",
   "execution_count": 615,
   "metadata": {
    "scrolled": true
   },
   "outputs": [
    {
     "name": "stdout",
     "output_type": "stream",
     "text": [
      "     fun: 0.00028012399413412936\n",
      "     jac: array([-6.10947609e-07])\n",
      " message: 'Optimization terminated successfully.'\n",
      "    nfev: 12\n",
      "     nit: 4\n",
      "    njev: 4\n",
      "  status: 0\n",
      " success: True\n",
      "       x: array([0.])\n"
     ]
    }
   ],
   "source": [
    "result = minimize(objective, phi, method = 'SLSQP', bounds = bounds)\n",
    "print(result)"
   ]
  },
  {
   "cell_type": "code",
   "execution_count": 616,
   "metadata": {
    "scrolled": false
   },
   "outputs": [
    {
     "name": "stdout",
     "output_type": "stream",
     "text": [
      "[0.]\n"
     ]
    }
   ],
   "source": [
    "print(result.x *180/np.pi)"
   ]
  },
  {
   "cell_type": "code",
   "execution_count": 617,
   "metadata": {},
   "outputs": [
    {
     "data": {
      "image/png": "[encoded data removed]",
      "text/plain": [
       "<Figure size 432x288 with 1 Axes>"
      ]
     },
     "metadata": {
      "needs_background": "light"
     },
     "output_type": "display_data"
    }
   ],
   "source": [
    "x = [0.6,0.7,0.8,0.9,1,1.1,1.2,1.3,1.4,1.5,1.6,1.7,1.8,1.9,2,2.1,2.2,2.3]\n",
    "y = [0,7.66,22.14,27.87,30.99,32.68,33.43,33.5,33.04,32.13,30.82,29.13,27.04,24.5,21.4,17.48,12.03,0]\n",
    "plt.plot(x,y)\n",
    "plt.xlabel('λ (μm)')\n",
    "plt.ylabel('θ (deg)')\n",
    "plt.title('xz-plane Φ = 0°')\n",
    "plt.show()"
   ]
  }
 ],
 "metadata": {
  "kernelspec": {
   "display_name": "Python 3",
   "language": "python",
   "name": "python3"
  },
  "language_info": {
   "codemirror_mode": {
    "name": "ipython",
    "version": 3
   },
   "file_extension": ".py",
   "mimetype": "text/x-python",
   "name": "python",
   "nbconvert_exporter": "python",
   "pygments_lexer": "ipython3",
   "version": "3.7.6"
  }
 },
 "nbformat": 4,
 "nbformat_minor": 4
}
