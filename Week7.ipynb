{
 "cells": [
  {
   "cell_type": "code",
   "execution_count": 72,
   "metadata": {},
   "outputs": [
    {
     "name": "stdout",
     "output_type": "stream",
     "text": [
      "Enter the wavelength: 1.064\n"
     ]
    }
   ],
   "source": [
    "l = float(input(\"Enter the wavelength: \"))"
   ]
  },
  {
   "cell_type": "code",
   "execution_count": 73,
   "metadata": {},
   "outputs": [],
   "source": [
    "nxsq = 2.72186 + 0.01668 / (l**2 - 0.01546) - 0.00983 * l**2\n",
    "nysq = 2.78252 + 0.01767 / (l**2 - 0.01562) - 0.0111 * l**2\n",
    "nzsq = 2.83314 + 0.01834 / (l**2 - 0.01584) - 0.01179 * l**2\n",
    "\n",
    "nx2wsq = 2.72186 + 0.01668 / ((l/2)**2 - 0.01546) - 0.00983 * (l/2)**2\n",
    "ny2wsq = 2.78252 + 0.01767 / ((l/2)**2 - 0.01562) - 0.0111 * (l/2)**2\n",
    "nz2wsq = 2.83314 + 0.01834 / ((l/2)**2 - 0.01584) - 0.01179 * (l/2)**2"
   ]
  },
  {
   "cell_type": "code",
   "execution_count": 74,
   "metadata": {},
   "outputs": [
    {
     "name": "stdout",
     "output_type": "stream",
     "text": [
      "2.7256692199828585 2.7857803173269953 2.836222511045073\n",
      "2.7814180992223956 2.8454582229823577 2.89844498188041\n"
     ]
    }
   ],
   "source": [
    "print(nxsq, nysq, nzsq)\n",
    "print(nx2wsq, ny2wsq, nz2wsq)"
   ]
  },
  {
   "cell_type": "code",
   "execution_count": 45,
   "metadata": {},
   "outputs": [],
   "source": [
    "from sympy import *"
   ]
  },
  {
   "cell_type": "code",
   "execution_count": 59,
   "metadata": {},
   "outputs": [],
   "source": [
    "theta = Symbol('theta',real = True)\n",
    "phi = Symbol('phi',real = True)"
   ]
  },
  {
   "cell_type": "code",
   "execution_count": 60,
   "metadata": {},
   "outputs": [],
   "source": [
    "a1 = nxsq**(-2)\n",
    "b1 = nysq**(-2)\n",
    "c1 = nzsq**(-2)\n",
    "\n",
    "a2 = nx2wsq**(-2)\n",
    "b2 = ny2wsq**(-2)\n",
    "c2 = nz2wsq**(-2)"
   ]
  },
  {
   "cell_type": "code",
   "execution_count": 65,
   "metadata": {},
   "outputs": [
    {
     "name": "stdout",
     "output_type": "stream",
     "text": [
      "0.13460267792240932 0.12885648158926638 0.12431381675631342\n",
      "0.12926098090560562 0.12350813750727571 0.1190336848371098\n"
     ]
    }
   ],
   "source": [
    "print(a1, b1, c1)\n",
    "print(a2, b2, c2)"
   ]
  },
  {
   "cell_type": "code",
   "execution_count": 62,
   "metadata": {},
   "outputs": [],
   "source": [
    "kx = sin(theta) * cos(phi)\n",
    "ky = sin(theta) * sin (phi)\n",
    "kz = cos(theta)"
   ]
  },
  {
   "cell_type": "code",
   "execution_count": 63,
   "metadata": {},
   "outputs": [],
   "source": [
    "B1 = (-(kx**2)*(b1+c1) - (ky**2)*(a1+c1) - (kz**2)*(a1+b1))\n",
    "C1 = (kx**2)*b1*c1 + (ky**2)*a1*c1 + (kz**2)*a1*b1\n",
    "\n",
    "B2 = (-(kx**2)*(b2+c2) - (ky**2)*(a2+c2) - (kz**2)*(a2+b2))\n",
    "C2 = (kx**2)*b2*c2 + (ky**2)*a2*c2 + (kz**2)*a2*b2"
   ]
  },
  {
   "cell_type": "code",
   "execution_count": 75,
   "metadata": {
    "scrolled": true
   },
   "outputs": [
    {
     "data": {
      "text/plain": [
       "[]"
      ]
     },
     "execution_count": 75,
     "metadata": {},
     "output_type": "execute_result"
    }
   ],
   "source": [
    "eq1 = Eq(sqrt(2)/sqrt(-B1 - sqrt(B1**2 - 4*C1)))\n",
    "eq2 = Eq(sqrt(2)/sqrt(-B2 + sqrt(B2**2 - 4*C2)))\n",
    "\n",
    "solve((eq1,eq2),(theta, phi))"
   ]
  },
  {
   "cell_type": "code",
   "execution_count": 76,
   "metadata": {},
   "outputs": [],
   "source": [
    "B1 = (-((sin(theta) * cos(phi))**2)*(b1+c1) - ((sin(theta) * sin (phi))**2)*(a1+c1) - ((cos(theta))**2)*(a1+b1))\n",
    "C1 = ((sin(theta) * cos(phi))**2)*b1*c1 + ((sin(theta) * sin (phi))**2)*a1*c1 + ((cos(theta))**2)*a1*b1\n",
    "\n",
    "B2 = (-((sin(theta) * cos(phi))**2)*(b2+c2) - ((sin(theta) * sin (phi))**2)*(a2+c2) - ((cos(theta))**2)*(a2+b2))\n",
    "C2 = ((sin(theta) * cos(phi))**2)*b2*c2 + ((sin(theta) * sin (phi))**2)*a2*c2 + ((cos(theta))**2)*a2*b2"
   ]
  },
  {
   "cell_type": "code",
   "execution_count": 78,
   "metadata": {},
   "outputs": [
    {
     "data": {
      "text/plain": [
       "[]"
      ]
     },
     "execution_count": 78,
     "metadata": {},
     "output_type": "execute_result"
    }
   ],
   "source": [
    "eq1 = Eq(sqrt(2)/sqrt(-(-((sin(theta) * cos(phi))**2)*(b1+c1) - ((sin(theta) * sin (phi))**2)*(a1+c1) - ((cos(theta))**2)*(a1+b1)) - sqrt((-((sin(theta) * cos(phi))**2)*(b1+c1) - ((sin(theta) * sin (phi))**2)*(a1+c1) - ((cos(theta))**2)*(a1+b1))**2 - 4*(((sin(theta) * cos(phi))**2)*b1*c1 + ((sin(theta) * sin (phi))**2)*a1*c1 + ((cos(theta))**2)*a1*b1))))\n",
    "eq2 = Eq(sqrt(2)/sqrt(-(-((sin(theta) * cos(phi))**2)*(b2+c2) - ((sin(theta) * sin (phi))**2)*(a2+c2) - ((cos(theta))**2)*(a2+b2)) + sqrt((-((sin(theta) * cos(phi))**2)*(b2+c2) - ((sin(theta) * sin (phi))**2)*(a2+c2) - ((cos(theta))**2)*(a2+b2))**2 - 4*(((sin(theta) * cos(phi))**2)*b2*c2 + ((sin(theta) * sin (phi))**2)*a2*c2 + ((cos(theta))**2)*a2*b2))))\n",
    "\n",
    "solve((eq1,eq2),(theta, phi))\n"
   ]
  },
  {
   "cell_type": "code",
   "execution_count": null,
   "metadata": {},
   "outputs": [],
   "source": []
  }
 ],
 "metadata": {
  "kernelspec": {
   "display_name": "Python 3",
   "language": "python",
   "name": "python3"
  },
  "language_info": {
   "codemirror_mode": {
    "name": "ipython",
    "version": 3
   },
   "file_extension": ".py",
   "mimetype": "text/x-python",
   "name": "python",
   "nbconvert_exporter": "python",
   "pygments_lexer": "ipython3",
   "version": "3.7.6"
  }
 },
 "nbformat": 4,
 "nbformat_minor": 4
}
