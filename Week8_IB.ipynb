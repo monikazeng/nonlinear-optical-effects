{
 "cells": [
  {
   "cell_type": "code",
   "execution_count": 1,
   "metadata": {},
   "outputs": [
    {
     "name": "stdout",
     "output_type": "stream",
     "text": [
      "Enter the wavelength: 1.064\n"
     ]
    }
   ],
   "source": [
    "l = float(input(\"Enter the wavelength: \"))"
   ]
  },
  {
   "cell_type": "code",
   "execution_count": 2,
   "metadata": {},
   "outputs": [],
   "source": [
    "nxsq = 2.72186 + 0.01668 / (l**2 - 0.01546) - 0.00983 * l**2\n",
    "nysq = 2.78252 + 0.01767 / (l**2 - 0.01562) - 0.0111 * l**2\n",
    "nzsq = 2.83314 + 0.01834 / (l**2 - 0.01584) - 0.01179 * l**2\n",
    "\n",
    "nx2wsq = 2.72186 + 0.01668 / ((l/2)**2 - 0.01546) - 0.00983 * (l/2)**2\n",
    "ny2wsq = 2.78252 + 0.01767 / ((l/2)**2 - 0.01562) - 0.0111 * (l/2)**2\n",
    "nz2wsq = 2.83314 + 0.01834 / ((l/2)**2 - 0.01584) - 0.01179 * (l/2)**2"
   ]
  },
  {
   "cell_type": "code",
   "execution_count": 3,
   "metadata": {},
   "outputs": [
    {
     "name": "stdout",
     "output_type": "stream",
     "text": [
      "2.7256692199828585 2.7857803173269953 2.836222511045073\n",
      "2.7814180992223956 2.8454582229823577 2.89844498188041\n"
     ]
    }
   ],
   "source": [
    "print(nxsq, nysq, nzsq)\n",
    "print(nx2wsq, ny2wsq, nz2wsq)"
   ]
  },
  {
   "cell_type": "code",
   "execution_count": null,
   "metadata": {},
   "outputs": [],
   "source": []
  },
  {
   "cell_type": "code",
   "execution_count": 4,
   "metadata": {},
   "outputs": [],
   "source": [
    "import numpy as np\n",
    "from scipy.optimize import minimize"
   ]
  },
  {
   "cell_type": "code",
   "execution_count": null,
   "metadata": {},
   "outputs": [],
   "source": []
  },
  {
   "cell_type": "code",
   "execution_count": null,
   "metadata": {},
   "outputs": [],
   "source": [
    "print(a1, b1, c1)\n",
    "print(a2, b2, c2)"
   ]
  },
  {
   "cell_type": "code",
   "execution_count": 5,
   "metadata": {},
   "outputs": [],
   "source": [
    "def objective(x):\n",
    "    phi = x[0] \n",
    "    # phi is a scalar and not a vector, so no need for the square barakets; I would also simplify the notation and \n",
    "    # call the independent variable phi from the beginning,to avoid any confusion\n",
    "\n",
    "    # it would be more elegant to use directly np.pi/2 and to keep it parametrized\n",
    "    kx = np.sin(90*np.pi/180) * np.cos(phi)\n",
    "    ky = np.sin(90*np.pi/180) * np.sin (phi)\n",
    "    kz = np.cos(90*np.pi/180)\n",
    "    \n",
    "    a1 = nxsq**(-1)\n",
    "    b1 = nysq**(-1)\n",
    "    c1 = nzsq**(-1)\n",
    "\n",
    "    a2 = nx2wsq**(-1)\n",
    "    b2 = ny2wsq**(-1)\n",
    "    c2 = nz2wsq**(-1)\n",
    "\n",
    "    B1 = (-(kx**2)*(b1+c1) - (ky**2)*(a1+c1) - (kz**2)*(a1+b1))\n",
    "    C1 = (kx**2)*b1*c1 + (ky**2)*a1*c1 + (kz**2)*a1*b1\n",
    "\n",
    "    B2 = (-(kx**2)*(b2+c2) - (ky**2)*(a2+c2) - (kz**2)*(a2+b2))\n",
    "    C2 = (kx**2)*b2*c2 + (ky**2)*a2*c2 + (kz**2)*a2*b2\n",
    "\n",
    "    eq1 = np.sqrt(2)/np.sqrt(-B1 - np.sqrt(B1**2 - 4*C1))\n",
    "    eq2 = np.sqrt(2)/np.sqrt(-B2 + np.sqrt(B2**2 - 4*C2))\n",
    "    \n",
    "    # this needs to be absolute value of the difference\n",
    "    return eq1 - eq2  "
   ]
  },
  {
   "cell_type": "code",
   "execution_count": null,
   "metadata": {},
   "outputs": [],
   "source": [
    "def inequality_constraint(x):\n",
    "    phi = x[0]\n",
    "    return phi\n",
    "# this constrain doesn't do anything actually"
   ]
  },
  {
   "cell_type": "code",
   "execution_count": 7,
   "metadata": {},
   "outputs": [],
   "source": [
    "bounds_phi = (0*np.pi/180, 90*np.pi/180)\n",
    "bounds = [bounds_phi]\n",
    "phi = 20*np.pi/180"
   ]
  },
  {
   "cell_type": "code",
   "execution_count": null,
   "metadata": {},
   "outputs": [],
   "source": [
    "constraint = {'type' : 'ineq', 'fun' : inequality_constraint}\n",
    "# this is not used "
   ]
  },
  {
   "cell_type": "code",
   "execution_count": 10,
   "metadata": {},
   "outputs": [
    {
     "name": "stdout",
     "output_type": "stream",
     "text": [
      "      fun: -0.0027397883460926753\n",
      " hess_inv: array([[26.11580072]])\n",
      "      jac: array([8.46385956e-06])\n",
      "  message: 'Optimization terminated successfully.'\n",
      "     nfev: 18\n",
      "      nit: 4\n",
      "     njev: 6\n",
      "   status: 0\n",
      "  success: True\n",
      "        x: array([0.00017778])\n"
     ]
    }
   ],
   "source": [
    "result = minimize(objective, phi, method = 'SLSQP', bounds = bounds, constraints = inequality_constraint)\n",
    "print(result)"
   ]
  },
  {
   "cell_type": "code",
   "execution_count": 11,
   "metadata": {},
   "outputs": [
    {
     "name": "stdout",
     "output_type": "stream",
     "text": [
      "[0.01018604]\n"
     ]
    }
   ],
   "source": [
    "print(result.x *180/np.pi)"
   ]
  },
  {
   "cell_type": "code",
   "execution_count": null,
   "metadata": {},
   "outputs": [],
   "source": [
    "import numpy as np\n",
    "from scipy.optimize import minimize"
   ]
  },
  {
   "cell_type": "code",
   "execution_count": null,
   "metadata": {},
   "outputs": [],
   "source": [
    "def objective(x):\n",
    "    theta = x[0]\n",
    "    phi = x[1]\n",
    "# theta has to be fixed, it can only minimize one parameter at a time\n",
    "    a1 = nxsq**(-2)\n",
    "    b1 = nysq**(-2)\n",
    "    c1 = nzsq**(-2)\n",
    "\n",
    "    a2 = nx2wsq**(-2)\n",
    "    b2 = ny2wsq**(-2)\n",
    "    c2 = nz2wsq**(-2)\n",
    "\n",
    "    kx = np.sin(theta) * np.cos(phi)\n",
    "    ky = np.sin(theta) * np.sin (phi)\n",
    "    kz = np.cos(theta)\n",
    "\n",
    "    B1 = (-(kx**2)*(b1+c1) - (ky**2)*(a1+c1) - (kz**2)*(a1+b1))\n",
    "    C1 = (kx**2)*b1*c1 + (ky**2)*a1*c1 + (kz**2)*a1*b1\n",
    "\n",
    "    B2 = (-(kx**2)*(b2+c2) - (ky**2)*(a2+c2) - (kz**2)*(a2+b2))\n",
    "    C2 = (kx**2)*b2*c2 + (ky**2)*a2*c2 + (kz**2)*a2*b2\n",
    "\n",
    "    eq1 = np.sqrt(2)/np.sqrt(-B1 - np.sqrt(B1**2 - 4*C1))\n",
    "    eq2 = np.sqrt(2)/np.sqrt(-B2 + np.sqrt(B2**2 - 4*C2))\n",
    "    \n",
    "    return eq1 -eq2"
   ]
  },
  {
   "cell_type": "code",
   "execution_count": null,
   "metadata": {},
   "outputs": [],
   "source": [
    "bounds_theta = (0, 91)\n",
    "bounds_phi = (0, 91)\n",
    "bounds = [bounds_theta, bounds_phi]\n",
    "theta = [10,20]\n",
    "phi = [20,40]\n"
   ]
  },
  {
   "cell_type": "code",
   "execution_count": null,
   "metadata": {},
   "outputs": [],
   "source": [
    "result = minimize(objective, theta, method = 'SLSQP', bounds = bounds)\n",
    "print(result)"
   ]
  }
 ],
 "metadata": {
  "kernelspec": {
   "display_name": "Python 3",
   "language": "python",
   "name": "python3"
  },
  "language_info": {
   "codemirror_mode": {
    "name": "ipython",
    "version": 3
   },
   "file_extension": ".py",
   "mimetype": "text/x-python",
   "name": "python",
   "nbconvert_exporter": "python",
   "pygments_lexer": "ipython3",
   "version": "3.7.6"
  }
 },
 "nbformat": 4,
 "nbformat_minor": 4
}
