{
 "cells": [
  {
   "cell_type": "code",
   "execution_count": 1,
   "metadata": {
    "scrolled": true
   },
   "outputs": [
    {
     "name": "stdout",
     "output_type": "stream",
     "text": [
      "Enter the wavelength: 1.2\n"
     ]
    }
   ],
   "source": [
    "l = float(input(\"Enter the wavelength: \"))"
   ]
  },
  {
   "cell_type": "code",
   "execution_count": 2,
   "metadata": {},
   "outputs": [],
   "source": [
    "nxsq = 1.90713 + 1.23522 * l**2 / (l**2 - 0.196922) - 0.01025 * l**2\n",
    "nysq = 2.15912 + 1.00099 * l**2 / (l**2 - 0.218442) - 0.01096 * l**2\n",
    "nzsq = 2.14768 + 1.29559 * l**2 / (l**2 - 0.227192) - 0.01436 * l**2\n",
    "\n",
    "nx2wsq = 1.90713 + 1.23522 * (l/2)**2 / ((l/2)**2 - 0.196922) - 0.01025 * (l/2)**2\n",
    "ny2wsq = 2.15912 + 1.00099 * (l/2)**2 / ((l/2)**2 - 0.218442) - 0.01096 * (l/2)**2\n",
    "nz2wsq = 2.14768 + 1.29559 * (l/2)**2 / ((l/2)**2 - 0.227192) - 0.01436 * (l/2)**2"
   ]
  },
  {
   "cell_type": "code",
   "execution_count": 3,
   "metadata": {},
   "outputs": [
    {
     "name": "stdout",
     "output_type": "stream",
     "text": [
      "3.3232671762029415 3.3233270888331132 3.665290925268303\n",
      "4.63022840800108 4.700819294672149 5.654440404216613\n"
     ]
    }
   ],
   "source": [
    "print(nxsq, nysq, nzsq)\n",
    "print(nx2wsq, ny2wsq, nz2wsq)"
   ]
  },
  {
   "cell_type": "code",
   "execution_count": 4,
   "metadata": {},
   "outputs": [],
   "source": [
    "import numpy as np\n",
    "from scipy.optimize import minimize"
   ]
  },
  {
   "cell_type": "code",
   "execution_count": 5,
   "metadata": {},
   "outputs": [],
   "source": [
    "import matplotlib.pyplot as plt"
   ]
  },
  {
   "cell_type": "code",
   "execution_count": null,
   "metadata": {},
   "outputs": [],
   "source": []
  },
  {
   "cell_type": "code",
   "execution_count": null,
   "metadata": {},
   "outputs": [],
   "source": []
  },
  {
   "cell_type": "code",
   "execution_count": 6,
   "metadata": {},
   "outputs": [],
   "source": [
    "def objective(x):\n",
    "    phi = x[0] \n",
    "    # phi is a scalar and not a vector, so no need for the square barakets; I would also simplify the notation and \n",
    "    # call the independent variable phi from the beginning,to avoid any confusion\n",
    "\n",
    "    kx = np.sin(1/2*np.pi) * np.cos(phi)\n",
    "    ky = np.sin(1/2*np.pi) * np.sin (phi)\n",
    "    kz = np.cos(1/2*np.pi)\n",
    "    \n",
    "    a1 = nxsq**(-1)\n",
    "    b1 = nysq**(-1)\n",
    "    c1 = nzsq**(-1)\n",
    "\n",
    "    a2 = nx2wsq**(-1)\n",
    "    b2 = ny2wsq**(-1)\n",
    "    c2 = nz2wsq**(-1)\n",
    "\n",
    "    B1 = (-(kx**2)*(b1+c1) - (ky**2)*(a1+c1) - (kz**2)*(a1+b1))\n",
    "    C1 = (kx**2)*b1*c1 + (ky**2)*a1*c1 + (kz**2)*a1*b1\n",
    "\n",
    "    B2 = (-(kx**2)*(b2+c2) - (ky**2)*(a2+c2) - (kz**2)*(a2+b2))\n",
    "    C2 = (kx**2)*b2*c2 + (ky**2)*a2*c2 + (kz**2)*a2*b2\n",
    "\n",
    "    eq1 = np.sqrt(2)/np.sqrt(-B1 - np.sqrt(B1**2 - 4*C1))\n",
    "    eq2 = np.sqrt(2)/np.sqrt(-B2 + np.sqrt(B2**2 - 4*C2))\n",
    "    \n",
    "    # this needs to be absolute value of the difference\n",
    "    return abs(eq1 - eq2)"
   ]
  },
  {
   "cell_type": "code",
   "execution_count": 7,
   "metadata": {},
   "outputs": [],
   "source": [
    "bounds_phi = (40*np.pi/180, 90*np.pi/180)\n",
    "bounds = [bounds_phi]\n",
    "phi = 50*np.pi/180"
   ]
  },
  {
   "cell_type": "code",
   "execution_count": 8,
   "metadata": {},
   "outputs": [
    {
     "name": "stdout",
     "output_type": "stream",
     "text": [
      "     fun: 0.23730160052678406\n",
      "     jac: array([-1.1920929e-07])\n",
      " message: 'Optimization terminated successfully.'\n",
      "    nfev: 15\n",
      "     nit: 5\n",
      "    njev: 5\n",
      "  status: 0\n",
      " success: True\n",
      "       x: array([1.57079633])\n"
     ]
    }
   ],
   "source": [
    "result = minimize(objective, phi, method = 'SLSQP', bounds = bounds)\n",
    "print(result)"
   ]
  },
  {
   "cell_type": "code",
   "execution_count": 9,
   "metadata": {},
   "outputs": [
    {
     "name": "stdout",
     "output_type": "stream",
     "text": [
      "[90.]\n"
     ]
    }
   ],
   "source": [
    "print(result.x *180/np.pi)"
   ]
  },
  {
   "cell_type": "code",
   "execution_count": null,
   "metadata": {},
   "outputs": [],
   "source": []
  },
  {
   "cell_type": "code",
   "execution_count": null,
   "metadata": {},
   "outputs": [],
   "source": []
  },
  {
   "cell_type": "code",
   "execution_count": 10,
   "metadata": {},
   "outputs": [],
   "source": [
    "def objective(x):\n",
    "    theta = x[0] \n",
    "    \n",
    "    kx = np.sin(theta) * np.cos(1/2*np.pi)\n",
    "    ky = np.sin(theta) * np.sin(1/2*np.pi)\n",
    "    kz = np.cos(theta)\n",
    "    \n",
    "    a1 = nxsq**(-1)\n",
    "    b1 = nysq**(-1)\n",
    "    c1 = nzsq**(-1)\n",
    "\n",
    "    a2 = nx2wsq**(-1)\n",
    "    b2 = ny2wsq**(-1)\n",
    "    c2 = nz2wsq**(-1)\n",
    "\n",
    "    B1 = (-(kx**2)*(b1+c1) - (ky**2)*(a1+c1) - (kz**2)*(a1+b1))\n",
    "    C1 = (kx**2)*b1*c1 + (ky**2)*a1*c1 + (kz**2)*a1*b1\n",
    "\n",
    "    B2 = (-(kx**2)*(b2+c2) - (ky**2)*(a2+c2) - (kz**2)*(a2+b2))\n",
    "    C2 = (kx**2)*b2*c2 + (ky**2)*a2*c2 + (kz**2)*a2*b2\n",
    "\n",
    "    eq1 = np.sqrt(2)/np.sqrt(-B1 - np.sqrt(B1**2 - 4*C1))\n",
    "    eq2 = np.sqrt(2)/np.sqrt(-B2 + np.sqrt(B2**2 - 4*C2))\n",
    "    \n",
    "    return abs(eq1 - eq2)"
   ]
  },
  {
   "cell_type": "code",
   "execution_count": 11,
   "metadata": {},
   "outputs": [],
   "source": [
    "bounds_theta = (0*np.pi/180, 90*np.pi/180)\n",
    "bounds = [bounds_theta]\n",
    "theta = 20*np.pi/180"
   ]
  },
  {
   "cell_type": "code",
   "execution_count": 12,
   "metadata": {},
   "outputs": [
    {
     "name": "stdout",
     "output_type": "stream",
     "text": [
      "     fun: 0.23730160052678406\n",
      "     jac: array([-1.1920929e-07])\n",
      " message: 'Optimization terminated successfully.'\n",
      "    nfev: 12\n",
      "     nit: 4\n",
      "    njev: 4\n",
      "  status: 0\n",
      " success: True\n",
      "       x: array([1.57079633])\n"
     ]
    }
   ],
   "source": [
    "result = minimize(objective, theta, method = 'SLSQP', bounds = bounds)\n",
    "print(result)"
   ]
  },
  {
   "cell_type": "code",
   "execution_count": 13,
   "metadata": {
    "scrolled": false
   },
   "outputs": [
    {
     "name": "stdout",
     "output_type": "stream",
     "text": [
      "[90.]\n"
     ]
    }
   ],
   "source": [
    "print(result.x *180/np.pi)"
   ]
  },
  {
   "cell_type": "code",
   "execution_count": null,
   "metadata": {},
   "outputs": [],
   "source": []
  },
  {
   "cell_type": "code",
   "execution_count": null,
   "metadata": {},
   "outputs": [],
   "source": []
  },
  {
   "cell_type": "code",
   "execution_count": 14,
   "metadata": {},
   "outputs": [],
   "source": [
    "def objective(x):\n",
    "    theta = x[0] \n",
    "    \n",
    "    kx = np.sin(theta) * np.cos(0)\n",
    "    ky = np.sin(theta) * np.sin(0)\n",
    "    kz = np.cos(theta)\n",
    "    \n",
    "    a1 = nxsq**(-1)\n",
    "    b1 = nysq**(-1)\n",
    "    c1 = nzsq**(-1)\n",
    "\n",
    "    a2 = nx2wsq**(-1)\n",
    "    b2 = ny2wsq**(-1)\n",
    "    c2 = nz2wsq**(-1)\n",
    "\n",
    "    B1 = (-(kx**2)*(b1+c1) - (ky**2)*(a1+c1) - (kz**2)*(a1+b1))\n",
    "    C1 = (kx**2)*b1*c1 + (ky**2)*a1*c1 + (kz**2)*a1*b1\n",
    "\n",
    "    B2 = (-(kx**2)*(b2+c2) - (ky**2)*(a2+c2) - (kz**2)*(a2+b2))\n",
    "    C2 = (kx**2)*b2*c2 + (ky**2)*a2*c2 + (kz**2)*a2*b2\n",
    "\n",
    "    eq1 = np.sqrt(2)/np.sqrt(-B1 - np.sqrt(B1**2 - 4*C1))\n",
    "    eq2 = np.sqrt(2)/np.sqrt(-B2 + np.sqrt(B2**2 - 4*C2))\n",
    "    \n",
    "    return abs(eq1 - eq2)"
   ]
  },
  {
   "cell_type": "code",
   "execution_count": null,
   "metadata": {},
   "outputs": [],
   "source": []
  },
  {
   "cell_type": "code",
   "execution_count": 15,
   "metadata": {},
   "outputs": [],
   "source": [
    "bounds_theta = (0*np.pi/180, 40*np.pi/180)\n",
    "bounds = [bounds_theta]\n",
    "theta = 20*np.pi/180"
   ]
  },
  {
   "cell_type": "code",
   "execution_count": 16,
   "metadata": {
    "scrolled": true
   },
   "outputs": [
    {
     "name": "stdout",
     "output_type": "stream",
     "text": [
      "     fun: 0.30896152652552256\n",
      "     jac: array([-0.08885065])\n",
      " message: 'Optimization terminated successfully.'\n",
      "    nfev: 3\n",
      "     nit: 1\n",
      "    njev: 1\n",
      "  status: 0\n",
      " success: True\n",
      "       x: array([0.6981317])\n"
     ]
    }
   ],
   "source": [
    "result = minimize(objective, phi, method = 'SLSQP', bounds = bounds)\n",
    "print(result)"
   ]
  },
  {
   "cell_type": "code",
   "execution_count": 17,
   "metadata": {},
   "outputs": [
    {
     "name": "stdout",
     "output_type": "stream",
     "text": [
      "[40.]\n"
     ]
    }
   ],
   "source": [
    "print(result.x *180/np.pi)"
   ]
  },
  {
   "cell_type": "code",
   "execution_count": null,
   "metadata": {},
   "outputs": [],
   "source": []
  },
  {
   "cell_type": "code",
   "execution_count": null,
   "metadata": {},
   "outputs": [],
   "source": []
  }
 ],
 "metadata": {
  "kernelspec": {
   "display_name": "Python 3",
   "language": "python",
   "name": "python3"
  },
  "language_info": {
   "codemirror_mode": {
    "name": "ipython",
    "version": 3
   },
   "file_extension": ".py",
   "mimetype": "text/x-python",
   "name": "python",
   "nbconvert_exporter": "python",
   "pygments_lexer": "ipython3",
   "version": "3.7.6"
  }
 },
 "nbformat": 4,
 "nbformat_minor": 4
}
