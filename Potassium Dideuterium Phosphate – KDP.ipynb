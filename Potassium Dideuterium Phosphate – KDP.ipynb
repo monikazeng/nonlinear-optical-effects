{
 "cells": [
  {
   "cell_type": "code",
   "execution_count": 2,
   "metadata": {},
   "outputs": [
    {
     "name": "stdout",
     "output_type": "stream",
     "text": [
      "Enter the wavelength: 1.064\n"
     ]
    }
   ],
   "source": [
    "l = float(input(\"Enter the wavelength: \"))"
   ]
  },
  {
   "cell_type": "code",
   "execution_count": 3,
   "metadata": {
    "scrolled": true
   },
   "outputs": [],
   "source": [
    "nowsq = 2.259276 + 13.00522 * l**2 / (l**2 - 400) + 0.01008956 / (l**2 - 0.012942625)\n",
    "no2wsq = 2.259276 + 13.00522 * (l/2)**2 / ((l/2)**2 - 400) + 0.01008956 / ((l/2)**2 - 0.012942625)\n",
    "ne2wsq = 2.132668 + 3.2279924 * (l/2)**2 / ((l/2)**2 - 400) + 0.008637494 / ((l/2)**2 - 0.012281043)"
   ]
  },
  {
   "cell_type": "code",
   "execution_count": 4,
   "metadata": {
    "scrolled": false
   },
   "outputs": [
    {
     "name": "stdout",
     "output_type": "stream",
     "text": [
      "2.2313789858507302\n",
      "2.287424992589174\n",
      "2.1622853159456863\n"
     ]
    }
   ],
   "source": [
    "print(nowsq)\n",
    "print(no2wsq)\n",
    "print(ne2wsq)"
   ]
  },
  {
   "cell_type": "code",
   "execution_count": 5,
   "metadata": {},
   "outputs": [],
   "source": [
    "import numpy as np"
   ]
  },
  {
   "cell_type": "code",
   "execution_count": 6,
   "metadata": {},
   "outputs": [],
   "source": [
    "step = np.rad2deg(np.arcsin(np.sqrt((ne2wsq - (no2wsq * ne2wsq / nowsq)) / (ne2wsq - no2wsq))))"
   ]
  },
  {
   "cell_type": "code",
   "execution_count": 7,
   "metadata": {},
   "outputs": [
    {
     "name": "stdout",
     "output_type": "stream",
     "text": [
      "41.20738557230195\n"
     ]
    }
   ],
   "source": [
    "print(step)"
   ]
  },
  {
   "cell_type": "code",
   "execution_count": null,
   "metadata": {},
   "outputs": [],
   "source": []
  },
  {
   "cell_type": "code",
   "execution_count": 8,
   "metadata": {},
   "outputs": [],
   "source": [
    "import matplotlib.pyplot as plt"
   ]
  },
  {
   "cell_type": "code",
   "execution_count": 9,
   "metadata": {},
   "outputs": [],
   "source": [
    "#plotting"
   ]
  },
  {
   "cell_type": "code",
   "execution_count": 10,
   "metadata": {},
   "outputs": [],
   "source": [
    "x = np.arange(0.41, 2.5, 0.01) "
   ]
  },
  {
   "cell_type": "code",
   "execution_count": 11,
   "metadata": {},
   "outputs": [],
   "source": [
    "nowsq = 2.259276 + 13.00522 * x**2 / (x**2 - 400) + 0.01008956 / (x**2 - 0.012942625)\n",
    "no2wsq = 2.259276 + 13.00522 * (x/2)**2 / ((x/2)**2 - 400) + 0.01008956 / ((x/2)**2 - 0.012942625)\n",
    "ne2wsq = 2.132668 + 3.2279924 * (x/2)**2 / ((x/2)**2 - 400) + 0.008637494 / ((x/2)**2 - 0.012281043)"
   ]
  },
  {
   "cell_type": "code",
   "execution_count": 12,
   "metadata": {},
   "outputs": [
    {
     "name": "stderr",
     "output_type": "stream",
     "text": [
      "/Users/monica/opt/anaconda3/lib/python3.7/site-packages/ipykernel_launcher.py:1: RuntimeWarning: invalid value encountered in arcsin\n",
      "  \"\"\"Entry point for launching an IPython kernel.\n"
     ]
    }
   ],
   "source": [
    "y = np.rad2deg(np.arcsin(np.sqrt((ne2wsq - (no2wsq * ne2wsq / nowsq)) / (ne2wsq - no2wsq))))"
   ]
  },
  {
   "cell_type": "code",
   "execution_count": 14,
   "metadata": {
    "scrolled": true
   },
   "outputs": [
    {
     "data": {
      "image/png": "[encoded data removed]",
      "text/plain": [
       "<Figure size 432x288 with 1 Axes>"
      ]
     },
     "metadata": {
      "needs_background": "light"
     },
     "output_type": "display_data"
    }
   ],
   "source": [
    "plt.plot(x, y) \n",
    "plt.xlabel('λ (μm)')\n",
    "plt.ylabel('θ (deg)')\n",
    "plt.title('KDP')\n",
    "plt.show()"
   ]
  },
  {
   "cell_type": "code",
   "execution_count": null,
   "metadata": {},
   "outputs": [],
   "source": []
  }
 ],
 "metadata": {
  "kernelspec": {
   "display_name": "Python 3",
   "language": "python",
   "name": "python3"
  },
  "language_info": {
   "codemirror_mode": {
    "name": "ipython",
    "version": 3
   },
   "file_extension": ".py",
   "mimetype": "text/x-python",
   "name": "python",
   "nbconvert_exporter": "python",
   "pygments_lexer": "ipython3",
   "version": "3.7.6"
  }
 },
 "nbformat": 4,
 "nbformat_minor": 4
}
